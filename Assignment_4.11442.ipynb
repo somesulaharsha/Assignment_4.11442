{
 "cells": [
  {
   "cell_type": "markdown",
   "metadata": {},
   "source": [
    "# Write a function so that the columns of the output matrix are the power of the input vector. The order of the power is determined by the increasing boolean argument. Specifically, when increasing is False, the i-th output column is the input vector raised element-wiseto the power of (N-i-1)"
   ]
  },
  {
   "cell_type": "code",
   "execution_count": 1,
   "metadata": {},
   "outputs": [
    {
     "name": "stdout",
     "output_type": "stream",
     "text": [
      "[[ 1  1  1]\n",
      " [ 4  2  1]\n",
      " [ 9  3  1]\n",
      " [16  4  1]\n",
      " [25  5  1]]\n"
     ]
    }
   ],
   "source": [
    "import numpy as np\n",
    "def ATVanderMonde(x,n=0):\n",
    "    if n is 0:\n",
    "        n = len(x)\n",
    "    List1 = []\n",
    "    for data in x:\n",
    "        for i in range(n):\n",
    "            List1.append(data**(n-1-i))\n",
    "    matrix = np.array(List1).reshape((len(x),n))\n",
    "    return matrix\n",
    "\n",
    "List = [1,2,3,4,5]\n",
    "mat = ATVanderMonde(List,3)\n",
    "#print(type(mat))\n",
    "print(mat)"
   ]
  },
  {
   "cell_type": "code",
   "execution_count": null,
   "metadata": {},
   "outputs": [],
   "source": []
  },
  {
   "cell_type": "code",
   "execution_count": null,
   "metadata": {},
   "outputs": [],
   "source": []
  }
 ],
 "metadata": {
  "kernelspec": {
   "display_name": "Python 3",
   "language": "python",
   "name": "python3"
  },
  "language_info": {
   "codemirror_mode": {
    "name": "ipython",
    "version": 3
   },
   "file_extension": ".py",
   "mimetype": "text/x-python",
   "name": "python",
   "nbconvert_exporter": "python",
   "pygments_lexer": "ipython3",
   "version": "3.7.1"
  }
 },
 "nbformat": 4,
 "nbformat_minor": 2
}
